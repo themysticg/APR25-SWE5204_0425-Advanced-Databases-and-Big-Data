{
 "cells": [
  {
   "cell_type": "markdown",
   "id": "034965a9",
   "metadata": {},
   "source": [
    "\n",
    "# 📌 Task 3: Video Game Sales Big Data Analysis\n",
    "In this notebook, we analyze the Video Game Sales dataset from Kaggle to perform data wrangling, descriptive analysis, and diagnostic analysis.\n"
   ]
  },
  {
   "cell_type": "markdown",
   "id": "7f34a5a1",
   "metadata": {},
   "source": [
    "\n",
    "## 📥 Data Acquisition\n",
    "We load the dataset and preview its contents.\n"
   ]
  },
  {
   "cell_type": "code",
   "execution_count": 2,
   "id": "c5486d32",
   "metadata": {},
   "outputs": [
    {
     "data": {
      "text/html": [
       "<div>\n",
       "<style scoped>\n",
       "    .dataframe tbody tr th:only-of-type {\n",
       "        vertical-align: middle;\n",
       "    }\n",
       "\n",
       "    .dataframe tbody tr th {\n",
       "        vertical-align: top;\n",
       "    }\n",
       "\n",
       "    .dataframe thead th {\n",
       "        text-align: right;\n",
       "    }\n",
       "</style>\n",
       "<table border=\"1\" class=\"dataframe\">\n",
       "  <thead>\n",
       "    <tr style=\"text-align: right;\">\n",
       "      <th></th>\n",
       "      <th>Rank</th>\n",
       "      <th>Name</th>\n",
       "      <th>Platform</th>\n",
       "      <th>Year</th>\n",
       "      <th>Genre</th>\n",
       "      <th>Publisher</th>\n",
       "      <th>NA_Sales</th>\n",
       "      <th>EU_Sales</th>\n",
       "      <th>JP_Sales</th>\n",
       "      <th>Other_Sales</th>\n",
       "      <th>Global_Sales</th>\n",
       "    </tr>\n",
       "  </thead>\n",
       "  <tbody>\n",
       "    <tr>\n",
       "      <th>0</th>\n",
       "      <td>1</td>\n",
       "      <td>Wii Sports</td>\n",
       "      <td>Wii</td>\n",
       "      <td>2006.0</td>\n",
       "      <td>Sports</td>\n",
       "      <td>Nintendo</td>\n",
       "      <td>41.49</td>\n",
       "      <td>29.02</td>\n",
       "      <td>3.77</td>\n",
       "      <td>8.46</td>\n",
       "      <td>82.74</td>\n",
       "    </tr>\n",
       "    <tr>\n",
       "      <th>1</th>\n",
       "      <td>2</td>\n",
       "      <td>Super Mario Bros.</td>\n",
       "      <td>NES</td>\n",
       "      <td>1985.0</td>\n",
       "      <td>Platform</td>\n",
       "      <td>Nintendo</td>\n",
       "      <td>29.08</td>\n",
       "      <td>3.58</td>\n",
       "      <td>6.81</td>\n",
       "      <td>0.77</td>\n",
       "      <td>40.24</td>\n",
       "    </tr>\n",
       "    <tr>\n",
       "      <th>2</th>\n",
       "      <td>3</td>\n",
       "      <td>Mario Kart Wii</td>\n",
       "      <td>Wii</td>\n",
       "      <td>2008.0</td>\n",
       "      <td>Racing</td>\n",
       "      <td>Nintendo</td>\n",
       "      <td>15.85</td>\n",
       "      <td>12.88</td>\n",
       "      <td>3.79</td>\n",
       "      <td>3.31</td>\n",
       "      <td>35.82</td>\n",
       "    </tr>\n",
       "    <tr>\n",
       "      <th>3</th>\n",
       "      <td>4</td>\n",
       "      <td>Wii Sports Resort</td>\n",
       "      <td>Wii</td>\n",
       "      <td>2009.0</td>\n",
       "      <td>Sports</td>\n",
       "      <td>Nintendo</td>\n",
       "      <td>15.75</td>\n",
       "      <td>11.01</td>\n",
       "      <td>3.28</td>\n",
       "      <td>2.96</td>\n",
       "      <td>33.00</td>\n",
       "    </tr>\n",
       "    <tr>\n",
       "      <th>4</th>\n",
       "      <td>5</td>\n",
       "      <td>Pokemon Red/Pokemon Blue</td>\n",
       "      <td>GB</td>\n",
       "      <td>1996.0</td>\n",
       "      <td>Role-Playing</td>\n",
       "      <td>Nintendo</td>\n",
       "      <td>11.27</td>\n",
       "      <td>8.89</td>\n",
       "      <td>10.22</td>\n",
       "      <td>1.00</td>\n",
       "      <td>31.37</td>\n",
       "    </tr>\n",
       "  </tbody>\n",
       "</table>\n",
       "</div>"
      ],
      "text/plain": [
       "   Rank                      Name Platform    Year         Genre Publisher  \\\n",
       "0     1                Wii Sports      Wii  2006.0        Sports  Nintendo   \n",
       "1     2         Super Mario Bros.      NES  1985.0      Platform  Nintendo   \n",
       "2     3            Mario Kart Wii      Wii  2008.0        Racing  Nintendo   \n",
       "3     4         Wii Sports Resort      Wii  2009.0        Sports  Nintendo   \n",
       "4     5  Pokemon Red/Pokemon Blue       GB  1996.0  Role-Playing  Nintendo   \n",
       "\n",
       "   NA_Sales  EU_Sales  JP_Sales  Other_Sales  Global_Sales  \n",
       "0     41.49     29.02      3.77         8.46         82.74  \n",
       "1     29.08      3.58      6.81         0.77         40.24  \n",
       "2     15.85     12.88      3.79         3.31         35.82  \n",
       "3     15.75     11.01      3.28         2.96         33.00  \n",
       "4     11.27      8.89     10.22         1.00         31.37  "
      ]
     },
     "execution_count": 2,
     "metadata": {},
     "output_type": "execute_result"
    }
   ],
   "source": [
    "\n",
    "import pandas as pd\n",
    "\n",
    "# Load dataset (update path if needed)\n",
    "df = pd.read_csv('vgsales.csv')\n",
    "\n",
    "# Preview data\n",
    "df.head()\n"
   ]
  },
  {
   "cell_type": "markdown",
   "id": "068b70e8",
   "metadata": {},
   "source": [
    "\n",
    "## ☁️ Storage Considerations\n",
    "Storing the Video Game Sales dataset in a cloud-based system such as AWS S3 or Google Cloud Storage offers significant advantages over local storage. These include horizontal scalability to handle large data volumes, improved accessibility for global teams, robust disaster recovery options, stronger security features like encryption and IAM policies, and cost-effective pay-as-you-go models. This approach also facilitates integration with cloud-based analytics services like Amazon Redshift or Google BigQuery, enabling advanced analysis at scale.\n"
   ]
  },
  {
   "cell_type": "markdown",
   "id": "1e513427",
   "metadata": {},
   "source": [
    "\n",
    "## 🧹 Data Wrangling\n",
    "We clean the dataset by checking for missing values and dropping rows with missing critical data.\n"
   ]
  },
  {
   "cell_type": "code",
   "execution_count": 4,
   "id": "33c99e04",
   "metadata": {},
   "outputs": [
    {
     "data": {
      "text/plain": [
       "Rank              0\n",
       "Name              0\n",
       "Platform          0\n",
       "Year            271\n",
       "Genre             0\n",
       "Publisher        58\n",
       "NA_Sales          0\n",
       "EU_Sales          0\n",
       "JP_Sales          0\n",
       "Other_Sales       0\n",
       "Global_Sales      0\n",
       "dtype: int64"
      ]
     },
     "execution_count": 4,
     "metadata": {},
     "output_type": "execute_result"
    }
   ],
   "source": [
    "\n",
    "# Check missing values\n",
    "df.isnull().sum()\n"
   ]
  },
  {
   "cell_type": "code",
   "execution_count": 6,
   "id": "87471d49",
   "metadata": {},
   "outputs": [
    {
     "name": "stdout",
     "output_type": "stream",
     "text": [
      "<class 'pandas.core.frame.DataFrame'>\n",
      "Index: 16327 entries, 0 to 16597\n",
      "Data columns (total 11 columns):\n",
      " #   Column        Non-Null Count  Dtype  \n",
      "---  ------        --------------  -----  \n",
      " 0   Rank          16327 non-null  int64  \n",
      " 1   Name          16327 non-null  object \n",
      " 2   Platform      16327 non-null  object \n",
      " 3   Year          16327 non-null  float64\n",
      " 4   Genre         16327 non-null  object \n",
      " 5   Publisher     16291 non-null  object \n",
      " 6   NA_Sales      16327 non-null  float64\n",
      " 7   EU_Sales      16327 non-null  float64\n",
      " 8   JP_Sales      16327 non-null  float64\n",
      " 9   Other_Sales   16327 non-null  float64\n",
      " 10  Global_Sales  16327 non-null  float64\n",
      "dtypes: float64(6), int64(1), object(4)\n",
      "memory usage: 1.5+ MB\n"
     ]
    }
   ],
   "source": [
    "\n",
    "# Drop rows with missing critical info (Name, Year, Genre, Global_Sales)\n",
    "df_clean = df.dropna(subset=['Name', 'Year', 'Genre', 'Global_Sales'])\n",
    "\n",
    "# Confirm cleaning\n",
    "df_clean.info()\n"
   ]
  },
  {
   "cell_type": "markdown",
   "id": "09671707",
   "metadata": {},
   "source": [
    "\n",
    "## 📊 Descriptive Analysis\n",
    "We explore the dataset through summary statistics and visualizations.\n"
   ]
  },
  {
   "cell_type": "code",
   "execution_count": 9,
   "id": "7253934a",
   "metadata": {},
   "outputs": [
    {
     "data": {
      "image/png": "[encoded data removed]",
      "text/plain": [
       "<Figure size 800x500 with 1 Axes>"
      ]
     },
     "metadata": {},
     "output_type": "display_data"
    }
   ],
   "source": [
    "\n",
    "import matplotlib.pyplot as plt\n",
    "import seaborn as sns\n",
    "\n",
    "# Histogram of Global Sales\n",
    "plt.figure(figsize=(8,5))\n",
    "sns.histplot(df_clean['Global_Sales'], bins=50, kde=True)\n",
    "plt.title('Distribution of Global Sales')\n",
    "plt.xlabel('Global Sales (millions)')\n",
    "plt.ylabel('Frequency')\n",
    "plt.show()\n"
   ]
  },
  {
   "cell_type": "code",
   "execution_count": 11,
   "id": "8aa29aec",
   "metadata": {},
   "outputs": [
    {
     "data": {
      "image/png": "[encoded data removed]",
      "text/plain": [
       "<Figure size 1000x500 with 1 Axes>"
      ]
     },
     "metadata": {},
     "output_type": "display_data"
    }
   ],
   "source": [
    "\n",
    "# Top 10 Genres by Global Sales\n",
    "top_genres = df_clean.groupby('Genre')['Global_Sales'].sum().sort_values(ascending=False).head(10)\n",
    "\n",
    "plt.figure(figsize=(10,5))\n",
    "sns.barplot(x=top_genres.values, y=top_genres.index)\n",
    "plt.title('Top 10 Genres by Global Sales')\n",
    "plt.xlabel('Global Sales (millions)')\n",
    "plt.ylabel('Genre')\n",
    "plt.show()\n"
   ]
  },
  {
   "cell_type": "code",
   "execution_count": 15,
   "id": "d8c61188",
   "metadata": {},
   "outputs": [
    {
     "name": "stdout",
     "output_type": "stream",
     "text": [
      "Column 'Critic_Score' not found in dataset.\n"
     ]
    }
   ],
   "source": [
    "\n",
    "# Scatter Plot: Critic Score vs Global Sales (if available)\n",
    "if 'Critic_Score' in df_clean.columns:\n",
    "    df_scores = df_clean.dropna(subset=['Critic_Score'])\n",
    "    plt.figure(figsize=(8,6))\n",
    "    sns.scatterplot(data=df_scores, x='Critic_Score', y='Global_Sales')\n",
    "    plt.title('Critic Score vs Global Sales')\n",
    "    plt.xlabel('Critic Score')\n",
    "    plt.ylabel('Global Sales (millions)')\n",
    "    plt.show()\n",
    "else:\n",
    "    print(\"Column 'Critic_Score' not found in dataset.\")\n"
   ]
  },
  {
   "cell_type": "markdown",
   "id": "61bd37a7",
   "metadata": {},
   "source": [
    "\n",
    "## 🩺 Diagnostic Analysis\n",
    "We perform a linear regression to assess the relationship between Critic Score and Global Sales.\n"
   ]
  },
  {
   "cell_type": "code",
   "execution_count": 20,
   "id": "2fa1e3e8",
   "metadata": {},
   "outputs": [
    {
     "name": "stdout",
     "output_type": "stream",
     "text": [
      "Skipping regression: 'Critic_Score' not found in dataset.\n"
     ]
    }
   ],
   "source": [
    "\n",
    "from sklearn.linear_model import LinearRegression\n",
    "import numpy as np\n",
    "\n",
    "if 'Critic_Score' in df_clean.columns:\n",
    "    X = df_scores['Critic_Score'].values.reshape(-1,1)\n",
    "    y = df_scores['Global_Sales'].values.reshape(-1,1)\n",
    "\n",
    "    model = LinearRegression()\n",
    "    model.fit(X, y)\n",
    "    y_pred = model.predict(X)\n",
    "\n",
    "    # Plot regression line\n",
    "    plt.figure(figsize=(8,6))\n",
    "    sns.scatterplot(x=X.flatten(), y=y.flatten(), label='Data')\n",
    "    plt.plot(X, y_pred, color='red', label='Regression Line')\n",
    "    plt.title('Regression: Critic Score vs Global Sales')\n",
    "    plt.xlabel('Critic Score')\n",
    "    plt.ylabel('Global Sales (millions)')\n",
    "    plt.legend()\n",
    "    plt.show()\n",
    "\n",
    "    # Correlation heatmap\n",
    "    corr = df_scores[['Critic_Score', 'Global_Sales']].corr()\n",
    "    sns.heatmap(corr, annot=True, cmap='coolwarm')\n",
    "    plt.title('Correlation Heatmap')\n",
    "    plt.show()\n",
    "else:\n",
    "    print(\"Skipping regression: 'Critic_Score' not found in dataset.\")\n"
   ]
  },
  {
   "cell_type": "markdown",
   "id": "8d1f0d07",
   "metadata": {},
   "source": [
    "\n",
    "## 📝 Conclusions\n",
    "Based on our analysis, we identify top-performing genres, evaluate the correlation between critic scores and sales, and provide recommendations for stakeholders in the gaming industry.\n"
   ]
  }
 ],
 "metadata": {
  "kernelspec": {
   "display_name": "Python [conda env:base] *",
   "language": "python",
   "name": "conda-base-py"
  },
  "language_info": {
   "codemirror_mode": {
    "name": "ipython",
    "version": 3
   },
   "file_extension": ".py",
   "mimetype": "text/x-python",
   "name": "python",
   "nbconvert_exporter": "python",
   "pygments_lexer": "ipython3",
   "version": "3.12.7"
  }
 },
 "nbformat": 4,
 "nbformat_minor": 5
}
