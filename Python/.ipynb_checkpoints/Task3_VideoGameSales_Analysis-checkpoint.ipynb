{
 "cells": [
  {
   "cell_type": "markdown",
   "id": "034965a9",
   "metadata": {},
   "source": [
    "\n",
    "# 📌 Task 3: Video Game Sales Big Data Analysis\n",
    "In this notebook, we analyze the Video Game Sales dataset from Kaggle to perform data wrangling, descriptive analysis, and diagnostic analysis.\n"
   ]
  },
  {
   "cell_type": "markdown",
   "id": "7f34a5a1",
   "metadata": {},
   "source": [
    "\n",
    "## 📥 Data Acquisition\n",
    "We load the dataset and preview its contents.\n"
   ]
  },
  {
   "cell_type": "code",
   "execution_count": null,
   "id": "c5486d32",
   "metadata": {},
   "outputs": [],
   "source": [
    "\n",
    "import pandas as pd\n",
    "\n",
    "# Load dataset (update path if needed)\n",
    "df = pd.read_csv('vgsales.csv')\n",
    "\n",
    "# Preview data\n",
    "df.head()\n"
   ]
  },
  {
   "cell_type": "markdown",
   "id": "068b70e8",
   "metadata": {},
   "source": [
    "\n",
    "## ☁️ Storage Considerations\n",
    "Storing the Video Game Sales dataset in a cloud-based system such as AWS S3 or Google Cloud Storage offers significant advantages over local storage. These include horizontal scalability to handle large data volumes, improved accessibility for global teams, robust disaster recovery options, stronger security features like encryption and IAM policies, and cost-effective pay-as-you-go models. This approach also facilitates integration with cloud-based analytics services like Amazon Redshift or Google BigQuery, enabling advanced analysis at scale.\n"
   ]
  },
  {
   "cell_type": "markdown",
   "id": "1e513427",
   "metadata": {},
   "source": [
    "\n",
    "## 🧹 Data Wrangling\n",
    "We clean the dataset by checking for missing values and dropping rows with missing critical data.\n"
   ]
  },
  {
   "cell_type": "code",
   "execution_count": null,
   "id": "33c99e04",
   "metadata": {},
   "outputs": [],
   "source": [
    "\n",
    "# Check missing values\n",
    "df.isnull().sum()\n"
   ]
  },
  {
   "cell_type": "code",
   "execution_count": null,
   "id": "87471d49",
   "metadata": {},
   "outputs": [],
   "source": [
    "\n",
    "# Drop rows with missing critical info (Name, Year, Genre, Global_Sales)\n",
    "df_clean = df.dropna(subset=['Name', 'Year', 'Genre', 'Global_Sales'])\n",
    "\n",
    "# Confirm cleaning\n",
    "df_clean.info()\n"
   ]
  },
  {
   "cell_type": "markdown",
   "id": "09671707",
   "metadata": {},
   "source": [
    "\n",
    "## 📊 Descriptive Analysis\n",
    "We explore the dataset through summary statistics and visualizations.\n"
   ]
  },
  {
   "cell_type": "code",
   "execution_count": null,
   "id": "7253934a",
   "metadata": {},
   "outputs": [],
   "source": [
    "\n",
    "import matplotlib.pyplot as plt\n",
    "import seaborn as sns\n",
    "\n",
    "# Histogram of Global Sales\n",
    "plt.figure(figsize=(8,5))\n",
    "sns.histplot(df_clean['Global_Sales'], bins=50, kde=True)\n",
    "plt.title('Distribution of Global Sales')\n",
    "plt.xlabel('Global Sales (millions)')\n",
    "plt.ylabel('Frequency')\n",
    "plt.show()\n"
   ]
  },
  {
   "cell_type": "code",
   "execution_count": null,
   "id": "8aa29aec",
   "metadata": {},
   "outputs": [],
   "source": [
    "\n",
    "# Top 10 Genres by Global Sales\n",
    "top_genres = df_clean.groupby('Genre')['Global_Sales'].sum().sort_values(ascending=False).head(10)\n",
    "\n",
    "plt.figure(figsize=(10,5))\n",
    "sns.barplot(x=top_genres.values, y=top_genres.index)\n",
    "plt.title('Top 10 Genres by Global Sales')\n",
    "plt.xlabel('Global Sales (millions)')\n",
    "plt.ylabel('Genre')\n",
    "plt.show()\n"
   ]
  },
  {
   "cell_type": "code",
   "execution_count": null,
   "id": "d8c61188",
   "metadata": {},
   "outputs": [],
   "source": [
    "\n",
    "# Scatter Plot: Critic Score vs Global Sales (if available)\n",
    "if 'Critic_Score' in df_clean.columns:\n",
    "    df_scores = df_clean.dropna(subset=['Critic_Score'])\n",
    "    plt.figure(figsize=(8,6))\n",
    "    sns.scatterplot(data=df_scores, x='Critic_Score', y='Global_Sales')\n",
    "    plt.title('Critic Score vs Global Sales')\n",
    "    plt.xlabel('Critic Score')\n",
    "    plt.ylabel('Global Sales (millions)')\n",
    "    plt.show()\n",
    "else:\n",
    "    print(\"Column 'Critic_Score' not found in dataset.\")\n"
   ]
  },
  {
   "cell_type": "markdown",
   "id": "61bd37a7",
   "metadata": {},
   "source": [
    "\n",
    "## 🩺 Diagnostic Analysis\n",
    "We perform a linear regression to assess the relationship between Critic Score and Global Sales.\n"
   ]
  },
  {
   "cell_type": "code",
   "execution_count": null,
   "id": "2fa1e3e8",
   "metadata": {},
   "outputs": [],
   "source": [
    "\n",
    "from sklearn.linear_model import LinearRegression\n",
    "import numpy as np\n",
    "\n",
    "if 'Critic_Score' in df_clean.columns:\n",
    "    X = df_scores['Critic_Score'].values.reshape(-1,1)\n",
    "    y = df_scores['Global_Sales'].values.reshape(-1,1)\n",
    "\n",
    "    model = LinearRegression()\n",
    "    model.fit(X, y)\n",
    "    y_pred = model.predict(X)\n",
    "\n",
    "    # Plot regression line\n",
    "    plt.figure(figsize=(8,6))\n",
    "    sns.scatterplot(x=X.flatten(), y=y.flatten(), label='Data')\n",
    "    plt.plot(X, y_pred, color='red', label='Regression Line')\n",
    "    plt.title('Regression: Critic Score vs Global Sales')\n",
    "    plt.xlabel('Critic Score')\n",
    "    plt.ylabel('Global Sales (millions)')\n",
    "    plt.legend()\n",
    "    plt.show()\n",
    "\n",
    "    # Correlation heatmap\n",
    "    corr = df_scores[['Critic_Score', 'Global_Sales']].corr()\n",
    "    sns.heatmap(corr, annot=True, cmap='coolwarm')\n",
    "    plt.title('Correlation Heatmap')\n",
    "    plt.show()\n",
    "else:\n",
    "    print(\"Skipping regression: 'Critic_Score' not found in dataset.\")\n"
   ]
  },
  {
   "cell_type": "markdown",
   "id": "8d1f0d07",
   "metadata": {},
   "source": [
    "\n",
    "## 📝 Conclusions\n",
    "Based on our analysis, we identify top-performing genres, evaluate the correlation between critic scores and sales, and provide recommendations for stakeholders in the gaming industry.\n"
   ]
  }
 ],
 "metadata": {},
 "nbformat": 4,
 "nbformat_minor": 5
}
